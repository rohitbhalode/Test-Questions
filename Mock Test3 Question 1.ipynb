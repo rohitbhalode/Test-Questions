{
 "cells": [
  {
   "cell_type": "markdown",
   "id": "9243e8be",
   "metadata": {},
   "source": [
    "# Mock Test3 Question1\n"
   ]
  },
  {
   "cell_type": "code",
   "execution_count": 2,
   "id": "e8b0f0c8",
   "metadata": {},
   "outputs": [
    {
     "name": "stdout",
     "output_type": "stream",
     "text": [
      "False\n",
      "[3]\n",
      "[3, 9]\n",
      "[3]\n",
      "False\n",
      "True\n"
     ]
    }
   ],
   "source": [
    "''' Q1==> Implement a stack using a list in Python. Include the necessary methods such as push, pop, and isEmpty.'''\n",
    "class Stack:\n",
    "    stack=[]\n",
    "    def push(self,a):\n",
    "        self.stack.append(a)\n",
    "    def pop(self):\n",
    "        self.stack.pop()\n",
    "    def isEmpty(self):\n",
    "        if(len(self.stack)==0):\n",
    "            return True\n",
    "        else:\n",
    "            return False\n",
    "    def display(self):\n",
    "        print(self.stack)\n",
    "stack=Stack()\n",
    "stack.push(3)\n",
    "print(stack.isEmpty())\n",
    "stack.display()\n",
    "stack.push(9)\n",
    "stack.display()\n",
    "stack.pop()\n",
    "stack.display()\n",
    "print(stack.isEmpty())\n",
    "stack.pop()\n",
    "print(stack.isEmpty())"
   ]
  },
  {
   "cell_type": "code",
   "execution_count": null,
   "id": "b0baf8a3",
   "metadata": {},
   "outputs": [],
   "source": []
  }
 ],
 "metadata": {
  "kernelspec": {
   "display_name": "Python 3 (ipykernel)",
   "language": "python",
   "name": "python3"
  },
  "language_info": {
   "codemirror_mode": {
    "name": "ipython",
    "version": 3
   },
   "file_extension": ".py",
   "mimetype": "text/x-python",
   "name": "python",
   "nbconvert_exporter": "python",
   "pygments_lexer": "ipython3",
   "version": "3.9.12"
  }
 },
 "nbformat": 4,
 "nbformat_minor": 5
}
