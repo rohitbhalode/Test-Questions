{
 "cells": [
  {
   "cell_type": "code",
   "execution_count": 1,
   "id": "7d474ec7",
   "metadata": {},
   "outputs": [],
   "source": [
    "def first_Unique_char(S):\n",
    "    ans=-1\n",
    "    for i in range(len(S)-1):\n",
    "        strg=S[0:i]+S[i+1:]\n",
    "        if(strg.find(S[i])==-1):\n",
    "            return i\n",
    "    return ans"
   ]
  },
  {
   "cell_type": "code",
   "execution_count": 6,
   "id": "ef25be57",
   "metadata": {},
   "outputs": [],
   "source": [
    "S=\"leetcode\""
   ]
  },
  {
   "cell_type": "code",
   "execution_count": 8,
   "id": "d6ba7937",
   "metadata": {},
   "outputs": [],
   "source": [
    "S=\"loveleetcode\""
   ]
  },
  {
   "cell_type": "code",
   "execution_count": 4,
   "id": "1d67a9d4",
   "metadata": {},
   "outputs": [],
   "source": [
    "S=\"aabb\""
   ]
  },
  {
   "cell_type": "code",
   "execution_count": 9,
   "id": "dd92f15a",
   "metadata": {},
   "outputs": [
    {
     "data": {
      "text/plain": [
       "2"
      ]
     },
     "execution_count": 9,
     "metadata": {},
     "output_type": "execute_result"
    }
   ],
   "source": [
    "first_Unique_char(S)"
   ]
  }
 ],
 "metadata": {
  "kernelspec": {
   "display_name": "Python 3 (ipykernel)",
   "language": "python",
   "name": "python3"
  },
  "language_info": {
   "codemirror_mode": {
    "name": "ipython",
    "version": 3
   },
   "file_extension": ".py",
   "mimetype": "text/x-python",
   "name": "python",
   "nbconvert_exporter": "python",
   "pygments_lexer": "ipython3",
   "version": "3.9.12"
  }
 },
 "nbformat": 4,
 "nbformat_minor": 5
}
