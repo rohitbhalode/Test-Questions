{
 "cells": [
  {
   "cell_type": "markdown",
   "id": "0c91e506",
   "metadata": {},
   "source": [
    "# Mock Test3 Question 2"
   ]
  },
  {
   "cell_type": "code",
   "execution_count": null,
   "id": "a5da5d9e",
   "metadata": {},
   "outputs": [],
   "source": [
    "'''Q2 ==> Implement a queue using a list in Python. Include the necessary methods such as enqueue, dequeue, and isEmpty.'''\n",
    "class Queue:\n",
    "    queue=[]\n",
    "    def enqueue(self,a):\n",
    "        self.queue.append(a)\n",
    "    def dequeue(self):\n",
    "        if(len(self.queue)!=0):\n",
    "            self.queue.pop(0)\n",
    "        else:\n",
    "            print(\"Your queue is empty\")\n",
    "    def isEmpty(self):\n",
    "        if(len(self.queue)==0):\n",
    "            return True\n",
    "        else:\n",
    "            return False\n",
    "    def display(self):\n",
    "        print(self.queue)\n",
    "queue=Queue()\n",
    "queue.enqueue(2)\n",
    "queue.enqueue(4)\n",
    "queue.enqueue(7)\n",
    "print(queue.isEmpty())\n",
    "queue.display()\n",
    "queue.dequeue()\n",
    "queue.dequeue()\n",
    "queue.display()\n",
    "queue.dequeue()\n",
    "print(queue.isEmpty())\n",
    "    \n"
   ]
  }
 ],
 "metadata": {
  "kernelspec": {
   "display_name": "Python 3 (ipykernel)",
   "language": "python",
   "name": "python3"
  },
  "language_info": {
   "codemirror_mode": {
    "name": "ipython",
    "version": 3
   },
   "file_extension": ".py",
   "mimetype": "text/x-python",
   "name": "python",
   "nbconvert_exporter": "python",
   "pygments_lexer": "ipython3",
   "version": "3.9.12"
  }
 },
 "nbformat": 4,
 "nbformat_minor": 5
}
