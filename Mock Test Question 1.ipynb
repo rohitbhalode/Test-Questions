{
 "cells": [
  {
   "cell_type": "code",
   "execution_count": 1,
   "id": "ff8477cd",
   "metadata": {},
   "outputs": [],
   "source": [
    "def move_zero(nums):\n",
    "    count_zero=0\n",
    "    j=0\n",
    "    for i in range(len(nums)):\n",
    "        if(nums[i]!=0):\n",
    "            nums[j]=nums[i]\n",
    "            j=j+1\n",
    "        else: \n",
    "            count_zero+=1\n",
    "    for i in range(len(nums)-count_zero,len(nums)):\n",
    "        nums[i]=0\n",
    "    return nums\n",
    "        "
   ]
  },
  {
   "cell_type": "code",
   "execution_count": 7,
   "id": "8b558733",
   "metadata": {},
   "outputs": [],
   "source": [
    "nums= [0,1,0,3,12,8,3,0,34]"
   ]
  },
  {
   "cell_type": "code",
   "execution_count": 9,
   "id": "e84b3e8f",
   "metadata": {},
   "outputs": [],
   "source": [
    "nums=[0]"
   ]
  },
  {
   "cell_type": "code",
   "execution_count": 10,
   "id": "ecb17d6c",
   "metadata": {},
   "outputs": [
    {
     "data": {
      "text/plain": [
       "[0]"
      ]
     },
     "execution_count": 10,
     "metadata": {},
     "output_type": "execute_result"
    }
   ],
   "source": [
    "move_zero(nums)"
   ]
  },
  {
   "cell_type": "code",
   "execution_count": null,
   "id": "5f547322",
   "metadata": {},
   "outputs": [],
   "source": []
  }
 ],
 "metadata": {
  "kernelspec": {
   "display_name": "Python 3 (ipykernel)",
   "language": "python",
   "name": "python3"
  },
  "language_info": {
   "codemirror_mode": {
    "name": "ipython",
    "version": 3
   },
   "file_extension": ".py",
   "mimetype": "text/x-python",
   "name": "python",
   "nbconvert_exporter": "python",
   "pygments_lexer": "ipython3",
   "version": "3.9.12"
  }
 },
 "nbformat": 4,
 "nbformat_minor": 5
}
